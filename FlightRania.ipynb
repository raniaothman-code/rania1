{
  "nbformat": 4,
  "nbformat_minor": 0,
  "metadata": {
    "colab": {
      "provenance": [],
      "authorship_tag": "ABX9TyMWk1Vc3xF/VkTqg9i2oWvw",
      "include_colab_link": true
    },
    "kernelspec": {
      "name": "python3",
      "display_name": "Python 3"
    },
    "language_info": {
      "name": "python"
    }
  },
  "cells": [
    {
      "cell_type": "markdown",
      "metadata": {
        "id": "view-in-github",
        "colab_type": "text"
      },
      "source": [
        "<a href=\"https://colab.research.google.com/github/raniaothman-code/rania1/blob/main/FlightRania.ipynb\" target=\"_parent\"><img src=\"https://colab.research.google.com/assets/colab-badge.svg\" alt=\"Open In Colab\"/></a>"
      ]
    },
    {
      "cell_type": "markdown",
      "source": [
        "#  Pandas , Numpy and Others  "
      ],
      "metadata": {
        "id": "oAqkqqF8Ker5"
      }
    },
    {
      "cell_type": "code",
      "execution_count": null,
      "metadata": {
        "id": "X0NbPqi2KRM8"
      },
      "outputs": [],
      "source": [
        "import numpy as np\n",
        "import pandas as pd\n",
        "\n",
        "import matplotlib.pyplot as plt  # Visulization\n",
        "import seaborn as sns  # Visulization\n",
        "import warnings\n",
        "import os\n",
        "import scipy\n",
        "import math\n",
        "# Pre-Processing\n",
        "from scipy import stats\n",
        "from scipy.stats import pearsonr\n",
        "from scipy.stats import ttest_ind\n",
        "from sklearn.metrics import classification_report\n",
        "from sklearn.metrics import confusion_matrix\n",
        "from sklearn.preprocessing import StandardScaler,RobustScaler,LabelEncoder\n",
        "from sklearn.model_selection import train_test_split\n",
        "from imblearn.over_sampling import SMOTE\n",
        "# Predications\n",
        "from sklearn.linear_model import LogisticRegression\n",
        "from sklearn.svm import SVC\n",
        "from sklearn.tree import DecisionTreeClassifier\n",
        "from sklearn.ensemble import RandomForestClassifier\n",
        "from sklearn.cluster import KMeans\n",
        "\n"
      ]
    },
    {
      "cell_type": "markdown",
      "source": [
        "#Reading Data"
      ],
      "metadata": {
        "id": "5kTIwvjJKoMg"
      }
    },
    {
      "cell_type": "code",
      "source": [
        "df= pd.read_csv('flights.csv')\n",
        "df.info()"
      ],
      "metadata": {
        "id": "kmAoCy1bKo0f"
      },
      "execution_count": null,
      "outputs": []
    },
    {
      "cell_type": "markdown",
      "source": [
        "# Detecting  Duplication Rows"
      ],
      "metadata": {
        "id": "rlyqru6wSOGV"
      }
    },
    {
      "cell_type": "code",
      "source": [
        "df.duplicated().sum() # 3003"
      ],
      "metadata": {
        "id": "oJmVAIsASR--"
      },
      "execution_count": null,
      "outputs": []
    },
    {
      "cell_type": "markdown",
      "source": [
        "# Handling Duplication Rows"
      ],
      "metadata": {
        "id": "UrWbNysYSWX0"
      }
    },
    {
      "cell_type": "code",
      "source": [
        "df=df.drop_duplicates()\n",
        "df.info()"
      ],
      "metadata": {
        "id": "zFshJwhKSX2e"
      },
      "execution_count": null,
      "outputs": []
    },
    {
      "cell_type": "markdown",
      "source": [
        "# Drop Un nesseray Columns"
      ],
      "metadata": {
        "id": "-ijJnfSTK5B2"
      }
    },
    {
      "cell_type": "code",
      "source": [
        "df= df.drop(['YEAR','DAY','MONTH','DAY_OF_WEEK'],axis=1)\n",
        "df= df.drop(['AIRLINE','FLIGHT_NUMBER','TAIL_NUMBER','ORIGIN_AIRPORT','DESTINATION_AIRPORT'] , axis=1)\n",
        "df= df.drop([\"TAXI_OUT\",\"WHEELS_OFF\",\"WHEELS_ON\",\"TAXI_IN\"],axis=1)\n",
        "df= df.drop([\"DIVERTED\",\"CANCELLED\",\"CANCELLATION_REASON\"],axis = 1)"
      ],
      "metadata": {
        "id": "SFEfkDrvK7je"
      },
      "execution_count": null,
      "outputs": []
    },
    {
      "cell_type": "markdown",
      "source": [
        "# Handling Missing Values"
      ],
      "metadata": {
        "id": "DinC0gHWLQ6I"
      }
    },
    {
      "cell_type": "code",
      "source": [
        "df['AIR_SYSTEM_DELAY'] = df['AIR_SYSTEM_DELAY'].fillna(df['AIR_SYSTEM_DELAY'].mean())\n",
        "df['AIRLINE_DELAY'] = df['AIRLINE_DELAY'].fillna(df['AIRLINE_DELAY'].mean())\n",
        "df['SECURITY_DELAY'] = df['SECURITY_DELAY'].fillna(df['SECURITY_DELAY'].mean())\n",
        "df['LATE_AIRCRAFT_DELAY'] = df['LATE_AIRCRAFT_DELAY'].fillna(df['LATE_AIRCRAFT_DELAY'].mean())\n",
        "df['WEATHER_DELAY'] = df['WEATHER_DELAY'].fillna(df['WEATHER_DELAY'].mean())"
      ],
      "metadata": {
        "id": "w5Td3VikLRp_"
      },
      "execution_count": null,
      "outputs": []
    },
    {
      "cell_type": "markdown",
      "source": [
        "# Handling Missing Values"
      ],
      "metadata": {
        "id": "OuG242q9VpMb"
      }
    },
    {
      "cell_type": "code",
      "source": [
        "df['DEPARTURE_TIME'] = df['DEPARTURE_TIME'].fillna(df['DEPARTURE_TIME'].mean())\n",
        "df['DEPARTURE_DELAY'] = df['DEPARTURE_DELAY'].fillna(df['DEPARTURE_DELAY'].mean())\n",
        "df['SCHEDULED_TIME'] = df['SCHEDULED_TIME'].fillna(df['SCHEDULED_TIME'].mean())\n",
        "df['ELAPSED_TIME'] = df['ELAPSED_TIME'].fillna(df['ELAPSED_TIME'].mean())\n",
        "df['DISTANCE'] = df['DISTANCE'].fillna(df['DISTANCE'].mean())\n",
        "df['AIR_TIME'] = df['AIR_TIME'].fillna(df['AIR_TIME'].mean())\n",
        "df['ARRIVAL_TIME'] = df['ARRIVAL_TIME'].fillna(df['ARRIVAL_TIME'].mean())\n",
        "df['ARRIVAL_DELAY'] = df['ARRIVAL_DELAY'].fillna(df['ARRIVAL_DELAY'].mean())"
      ],
      "metadata": {
        "id": "QFCAQZE2Vnfc"
      },
      "execution_count": null,
      "outputs": []
    },
    {
      "cell_type": "markdown",
      "source": [
        "## Clustering"
      ],
      "metadata": {
        "id": "_33QudG_L1cN"
      }
    },
    {
      "cell_type": "code",
      "source": [
        "sc=RobustScaler()\n",
        "\n",
        "scaled_data=sc.fit_transform(df)\n",
        "kmeans=KMeans(n_clusters=2,random_state=0)\n",
        "\n",
        "rania=kmeans.fit_predict(scaled_data)\n",
        "\n",
        "df[\"AIR_SYSTEM_DELAY\"] = rania\n",
        "df[\"SECURITY_DELAY\"] = rania\n",
        "df[\"AIRLINE_DELAY\"] = rania\n",
        "df[\"LATE_AIRCRAFT_DELAY\"] = rania\n",
        "df[\"WEATHER_DELAY\"] = rania"
      ],
      "metadata": {
        "id": "2H6r6XsCLz2d"
      },
      "execution_count": null,
      "outputs": []
    },
    {
      "cell_type": "markdown",
      "source": [
        "# Replacing"
      ],
      "metadata": {
        "id": "Jy_zJDEcMUhU"
      }
    },
    {
      "cell_type": "code",
      "source": [
        "df[\"AIR_SYSTEM_DELAY\"].replace(to_replace={0:'No Delay', 1:\"AIR_SYSTEM_DELAY\"}, inplace=True)\n",
        "df[\"SECURITY_DELAY\"].replace(to_replace={0:'No Delay', 1:\"SECURITY_DELAY\"}, inplace=True)\n",
        "df[\"AIRLINE_DELAY\"].replace(to_replace={0:'No Delay', 1:\"AIRLINE_DELAY\"}, inplace=True)\n",
        "df[\"LATE_AIRCRAFT_DELAY\"].replace(to_replace={0:'No Delay', 1:\"LATE_AIRCRAFT_DELAY\"}, inplace=True)\n",
        "df[\"WEATHER_DELAY\"].replace(to_replace={0:'No Delay', 1:\"WEATHER_DELAY\"}, inplace=True)\n",
        "\n",
        "print (df[\"WEATHER_DELAY\"].value_counts())"
      ],
      "metadata": {
        "id": "zcG5BEhhMHY2"
      },
      "execution_count": null,
      "outputs": []
    },
    {
      "cell_type": "markdown",
      "source": [
        "# Handling Missing Values"
      ],
      "metadata": {
        "id": "9PhvIpqGMoXG"
      }
    },
    {
      "cell_type": "code",
      "source": [],
      "metadata": {
        "id": "AdExGv0KMkt0"
      },
      "execution_count": null,
      "outputs": []
    },
    {
      "cell_type": "markdown",
      "source": [
        "# Creating Y column"
      ],
      "metadata": {
        "id": "ZWzleibEM3_W"
      }
    },
    {
      "cell_type": "code",
      "source": [
        "CLUSTRED_DELAY=[]\n",
        "for row in df['ARRIVAL_DELAY']:\n",
        "  if row >= 0:\n",
        "    CLUSTRED_DELAY.append(1)\n",
        "  else:\n",
        "    CLUSTRED_DELAY.append(0)\n",
        "df['CLUSTRED_DELAY']=CLUSTRED_DELAY\n",
        "\n"
      ],
      "metadata": {
        "id": "aNf94ThjMtQP"
      },
      "execution_count": null,
      "outputs": []
    },
    {
      "cell_type": "markdown",
      "source": [
        "# Discovering Outliers"
      ],
      "metadata": {
        "id": "UClaobUqOAyd"
      }
    },
    {
      "cell_type": "code",
      "source": [
        "sns.histplot (x=\"DISTANCE\", data=df, palette = 'hls')\n",
        "plt.show()\n",
        "print (df[\"DISTANCE\"].value_counts())"
      ],
      "metadata": {
        "id": "SflPkHm7RUPZ"
      },
      "execution_count": null,
      "outputs": []
    },
    {
      "cell_type": "markdown",
      "source": [
        "# Handling Outliers"
      ],
      "metadata": {
        "id": "vST8EQxYNLTP"
      }
    },
    {
      "cell_type": "code",
      "source": [
        "df.DISTANCE = np.sqrt(df.DISTANCE)"
      ],
      "metadata": {
        "id": "D0cQuOkPNL5e"
      },
      "execution_count": null,
      "outputs": []
    },
    {
      "cell_type": "markdown",
      "source": [
        "# Discovering Categorical Columns"
      ],
      "metadata": {
        "id": "KBGDKvNxMDbO"
      }
    },
    {
      "cell_type": "code",
      "source": [
        "df=pd.get_dummies(df)\n",
        "df.info()\n",
        "df.head()"
      ],
      "metadata": {
        "id": "Me6g1wmgNg4-"
      },
      "execution_count": null,
      "outputs": []
    },
    {
      "cell_type": "markdown",
      "source": [
        "# Handling Categorical Columns"
      ],
      "metadata": {
        "id": "cBKjo5gyNs5z"
      }
    },
    {
      "cell_type": "code",
      "source": [
        "df=df.drop(['AIR_SYSTEM_DELAY_No Delay','SECURITY_DELAY_No Delay','AIRLINE_DELAY_No Delay','LATE_AIRCRAFT_DELAY_No Delay','WEATHER_DELAY_No Delay'], axis=1)\n",
        "df.info()"
      ],
      "metadata": {
        "id": "Z1cODxxpN1pl"
      },
      "execution_count": null,
      "outputs": []
    },
    {
      "cell_type": "markdown",
      "source": [
        "# Label Encoder"
      ],
      "metadata": {
        "id": "sgKRAnI-OSAo"
      }
    },
    {
      "cell_type": "code",
      "source": [
        "Label_Encoder = LabelEncoder()\n",
        "df['AIR_SYSTEM_DELAY_AIR_SYSTEM_DELAY'] = Label_Encoder.fit_transform(df['AIR_SYSTEM_DELAY_AIR_SYSTEM_DELAY'])\n",
        "df['SECURITY_DELAY_SECURITY_DELAY'] = Label_Encoder.fit_transform(df['SECURITY_DELAY_SECURITY_DELAY'])\n",
        "df['AIRLINE_DELAY_AIRLINE_DELAY'] = Label_Encoder.fit_transform(df['AIRLINE_DELAY_AIRLINE_DELAY'])\n",
        "df['LATE_AIRCRAFT_DELAY_LATE_AIRCRAFT_DELAY'] = Label_Encoder.fit_transform(df['LATE_AIRCRAFT_DELAY_LATE_AIRCRAFT_DELAY'])\n",
        "df['WEATHER_DELAY_WEATHER_DELAY'] = Label_Encoder.fit_transform(df['WEATHER_DELAY_WEATHER_DELAY'])\n"
      ],
      "metadata": {
        "id": "921frpg4OTMo"
      },
      "execution_count": null,
      "outputs": []
    },
    {
      "cell_type": "markdown",
      "source": [
        "# Train And Test Sets"
      ],
      "metadata": {
        "id": "plKHl1PtOcEB"
      }
    },
    {
      "cell_type": "code",
      "source": [
        "X = df.iloc[: , 0:16].values\n",
        "Y = df.iloc[:,16:].values\n",
        "X_train,X_test,Y_train,Y_test= train_test_split(Y,X,test_size = 0.2, random_state = 42)"
      ],
      "metadata": {
        "id": "THEEE_B_OcxA"
      },
      "execution_count": null,
      "outputs": []
    },
    {
      "cell_type": "markdown",
      "source": [
        "# Scaling Numeric Columns"
      ],
      "metadata": {
        "id": "FlyuUIHMO5-z"
      }
    },
    {
      "cell_type": "code",
      "source": [
        "Scaler=StandardScaler(X)"
      ],
      "metadata": {
        "id": "TOnf-lE1Orc2"
      },
      "execution_count": null,
      "outputs": []
    },
    {
      "cell_type": "markdown",
      "source": [
        "# Learning Decision Tree"
      ],
      "metadata": {
        "id": "sO-LDmIvP0o7"
      }
    },
    {
      "cell_type": "code",
      "source": [
        "DS = DecisionTreeClassifier(max_depth = 500)\n",
        "DS.fit(X_train,Y_train)\n",
        "DS_pred = DS.predict(X_test)"
      ],
      "metadata": {
        "id": "yQkRe8VuP0Va"
      },
      "execution_count": null,
      "outputs": []
    },
    {
      "cell_type": "markdown",
      "source": [
        "# Accuracy Test"
      ],
      "metadata": {
        "id": "6sGyHJtVQBmu"
      }
    },
    {
      "cell_type": "code",
      "source": [
        "acc= accuracy_score (Y_pred,Y_test)\n",
        "print(acc)"
      ],
      "metadata": {
        "id": "cRvKi4_CQCyd"
      },
      "execution_count": null,
      "outputs": []
    }
  ]
}