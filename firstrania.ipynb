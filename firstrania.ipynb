{
  "nbformat": 4,
  "nbformat_minor": 0,
  "metadata": {
    "colab": {
      "provenance": []
    },
    "kernelspec": {
      "name": "python3",
      "display_name": "Python 3"
    },
    "language_info": {
      "name": "python"
    }
  },
  "cells": [
    {
      "cell_type": "markdown",
      "source": [
        "**bold text** Declare first_name varaiable and assign value to it"
      ],
      "metadata": {
        "id": "4mlmJ-J3ueD8"
      }
    },
    {
      "cell_type": "code",
      "source": [
        "first_name = \"rania\""
      ],
      "metadata": {
        "id": "sgfMpaiIu2_U"
      },
      "execution_count": null,
      "outputs": []
    },
    {
      "cell_type": "markdown",
      "source": [
        "Declare last_name and assign value to it"
      ],
      "metadata": {
        "id": "uYLTZorTvZzs"
      }
    },
    {
      "cell_type": "code",
      "source": [
        "last_name = \"masharika\""
      ],
      "metadata": {
        "id": "PK693SXuvg8E"
      },
      "execution_count": null,
      "outputs": []
    },
    {
      "cell_type": "markdown",
      "source": [
        "declare Full_Name and assign value to it"
      ],
      "metadata": {
        "id": "oYBIPS_Lvw96"
      }
    },
    {
      "cell_type": "code",
      "source": [
        "FullName = \"rania othman al masharika\""
      ],
      "metadata": {
        "id": "IW3WncPPv2p5"
      },
      "execution_count": null,
      "outputs": []
    },
    {
      "cell_type": "markdown",
      "source": [
        "Declare country and assign value to it\n"
      ],
      "metadata": {
        "id": "hgfRQB-4wvDG"
      }
    },
    {
      "cell_type": "code",
      "source": [
        "country = \"Jordan\""
      ],
      "metadata": {
        "id": "ZbWXbty0w2Bg"
      },
      "execution_count": null,
      "outputs": []
    },
    {
      "cell_type": "markdown",
      "source": [
        "Declare city varaialbe and assign value to it"
      ],
      "metadata": {
        "id": "u9RyEiR5w6nj"
      }
    },
    {
      "cell_type": "code",
      "source": [
        "city = \"Amman\""
      ],
      "metadata": {
        "id": "_OWbY43Myicl"
      },
      "execution_count": null,
      "outputs": []
    },
    {
      "cell_type": "markdown",
      "source": [
        "Declare age variale and assign value to it"
      ],
      "metadata": {
        "id": "YIV2grMRyo47"
      }
    },
    {
      "cell_type": "code",
      "source": [
        "age = '57'"
      ],
      "metadata": {
        "id": "E4N5hH9azIZm"
      },
      "execution_count": null,
      "outputs": []
    },
    {
      "cell_type": "markdown",
      "source": [
        "Declare is_married  variable and assig value to it"
      ],
      "metadata": {
        "id": "5k5r0YiLzhDG"
      }
    },
    {
      "cell_type": "code",
      "source": [
        "is_married = True"
      ],
      "metadata": {
        "id": "-LHN6jB2zvhF"
      },
      "execution_count": null,
      "outputs": []
    },
    {
      "cell_type": "markdown",
      "source": [
        "Declare is_True variable and assign value to it"
      ],
      "metadata": {
        "id": "TZNKRZDoz43X"
      }
    },
    {
      "cell_type": "code",
      "source": [
        "is_true = True"
      ],
      "metadata": {
        "id": "oZGmJMik08px"
      },
      "execution_count": null,
      "outputs": []
    },
    {
      "cell_type": "code",
      "source": [],
      "metadata": {
        "id": "FkIY3Gzp0axi"
      },
      "execution_count": null,
      "outputs": []
    },
    {
      "cell_type": "markdown",
      "source": [
        "Declare is_light_on variable and assign value to it"
      ],
      "metadata": {
        "id": "QT-Hwmxz1ImK"
      }
    },
    {
      "cell_type": "code",
      "source": [
        "is_light_on = False"
      ],
      "metadata": {
        "id": "jiiIrDx81Q-l"
      },
      "execution_count": null,
      "outputs": []
    },
    {
      "cell_type": "markdown",
      "source": [
        "declare multiple varaibles on one line"
      ],
      "metadata": {
        "id": "bL0UrDmE1dH5"
      }
    },
    {
      "cell_type": "code",
      "source": [
        "first_na = \"rania\" ,last_na = \"masharika\" , salary = 200 , age = \"39\", is_emp = False , payment_val = 500.56 ,is_attach = True"
      ],
      "metadata": {
        "colab": {
          "base_uri": "https://localhost:8080/",
          "height": 106
        },
        "id": "A8rKXlc31kBg",
        "outputId": "b0c89b30-cd81-4bec-cc0a-a3a77e032b61"
      },
      "execution_count": null,
      "outputs": [
        {
          "output_type": "error",
          "ename": "SyntaxError",
          "evalue": "invalid syntax. Maybe you meant '==' or ':=' instead of '='? (<ipython-input-46-106bd466afc1>, line 1)",
          "traceback": [
            "\u001b[0;36m  File \u001b[0;32m\"<ipython-input-46-106bd466afc1>\"\u001b[0;36m, line \u001b[0;32m1\u001b[0m\n\u001b[0;31m    first_na = \"rania\" ,last_na = \"masharika\" , salary = 200 , age = \"39\", is_emp = False , payment_val = 500.56 ,is_attach = True\u001b[0m\n\u001b[0m    ^\u001b[0m\n\u001b[0;31mSyntaxError\u001b[0m\u001b[0;31m:\u001b[0m invalid syntax. Maybe you meant '==' or ':=' instead of '='?\n"
          ]
        }
      ]
    },
    {
      "cell_type": "markdown",
      "source": [],
      "metadata": {
        "id": "7LA1mIuD7qmC"
      }
    },
    {
      "cell_type": "code",
      "source": [
        "fir_nam , last_na , salary, age1 , is_emp , payment_valu = 'rania' ,'othman', 400, '55' , True , 500.120"
      ],
      "metadata": {
        "id": "wO43SCrS3s9p"
      },
      "execution_count": null,
      "outputs": []
    },
    {
      "cell_type": "code",
      "source": [],
      "metadata": {
        "id": "_xEGi6PQ4Mij"
      },
      "execution_count": null,
      "outputs": []
    },
    {
      "cell_type": "markdown",
      "source": [
        "check data type for all variables"
      ],
      "metadata": {
        "id": "8vpfbLqr4bRa"
      }
    },
    {
      "cell_type": "code",
      "source": [
        "print(type(first_name) , type (fir_nam) , type (last_name), type(last_na))"
      ],
      "metadata": {
        "id": "LD9MJcyz4im3",
        "colab": {
          "base_uri": "https://localhost:8080/"
        },
        "outputId": "f1a41cba-7635-465d-ec0e-1de1b8c78275"
      },
      "execution_count": null,
      "outputs": [
        {
          "output_type": "stream",
          "name": "stdout",
          "text": [
            "<class 'str'> <class 'str'> <class 'str'> <class 'str'>\n"
          ]
        }
      ]
    },
    {
      "cell_type": "code",
      "source": [
        "print (type (age1), type(country))"
      ],
      "metadata": {
        "id": "A_nfxk9I6z0C",
        "colab": {
          "base_uri": "https://localhost:8080/"
        },
        "outputId": "d9674f71-edbd-4973-8d9e-ddd15b1c1f7b"
      },
      "execution_count": null,
      "outputs": [
        {
          "output_type": "stream",
          "name": "stdout",
          "text": [
            "<class 'str'> <class 'str'>\n"
          ]
        }
      ]
    },
    {
      "cell_type": "code",
      "source": [
        "print (type (age1) ,type(is_emp))"
      ],
      "metadata": {
        "colab": {
          "base_uri": "https://localhost:8080/"
        },
        "id": "-l8PXhEN80bk",
        "outputId": "fbb3952c-e34a-4dfb-b026-6a066d615323"
      },
      "execution_count": null,
      "outputs": [
        {
          "output_type": "stream",
          "name": "stdout",
          "text": [
            "<class 'str'> <class 'bool'>\n"
          ]
        }
      ]
    },
    {
      "cell_type": "code",
      "source": [
        "print (type(FullName), type(age) , type (is_light_on) )"
      ],
      "metadata": {
        "colab": {
          "base_uri": "https://localhost:8080/"
        },
        "id": "QHjRcNof9Fkj",
        "outputId": "e4ab3825-25c9-43ac-daf1-82563ec3e93d"
      },
      "execution_count": null,
      "outputs": [
        {
          "output_type": "stream",
          "name": "stdout",
          "text": [
            "<class 'str'> <class 'str'> <class 'bool'>\n"
          ]
        }
      ]
    },
    {
      "cell_type": "code",
      "source": [
        "print ( type (payment_valu) , type(salary) )"
      ],
      "metadata": {
        "colab": {
          "base_uri": "https://localhost:8080/"
        },
        "id": "RL-Kq-xx-GwQ",
        "outputId": "00f27541-2543-4614-916d-1fe4598138c7"
      },
      "execution_count": null,
      "outputs": [
        {
          "output_type": "stream",
          "name": "stdout",
          "text": [
            "<class 'float'> <class 'int'>\n"
          ]
        }
      ]
    },
    {
      "cell_type": "code",
      "source": [
        "print (type(salay) ,  type (is_emp))"
      ],
      "metadata": {
        "colab": {
          "base_uri": "https://localhost:8080/",
          "height": 141
        },
        "id": "THKQEeAU-wtp",
        "outputId": "23c43948-751b-4a27-ffe7-deeaddad1f87"
      },
      "execution_count": null,
      "outputs": [
        {
          "output_type": "error",
          "ename": "NameError",
          "evalue": "name 'salay' is not defined",
          "traceback": [
            "\u001b[0;31m---------------------------------------------------------------------------\u001b[0m",
            "\u001b[0;31mNameError\u001b[0m                                 Traceback (most recent call last)",
            "\u001b[0;32m<ipython-input-62-b5ff6ecaf5ef>\u001b[0m in \u001b[0;36m<cell line: 1>\u001b[0;34m()\u001b[0m\n\u001b[0;32m----> 1\u001b[0;31m \u001b[0mprint\u001b[0m \u001b[0;34m(\u001b[0m\u001b[0mtype\u001b[0m\u001b[0;34m(\u001b[0m\u001b[0msalay\u001b[0m\u001b[0;34m)\u001b[0m \u001b[0;34m,\u001b[0m  \u001b[0mtype\u001b[0m \u001b[0;34m(\u001b[0m\u001b[0mis_emp\u001b[0m\u001b[0;34m)\u001b[0m\u001b[0;34m)\u001b[0m\u001b[0;34m\u001b[0m\u001b[0;34m\u001b[0m\u001b[0m\n\u001b[0m",
            "\u001b[0;31mNameError\u001b[0m: name 'salay' is not defined"
          ]
        }
      ]
    },
    {
      "cell_type": "markdown",
      "source": [
        "I can print varialbe type string with type `boolian` in same print statement but i can't print variable type  float or intger with variable type string or boolian in same print statement\n",
        "all float and integer varialbes in one print statement"
      ],
      "metadata": {
        "id": "x701Npzj-9sb"
      }
    },
    {
      "cell_type": "code",
      "source": [],
      "metadata": {
        "id": "R4UsQiFGAJOb"
      },
      "execution_count": null,
      "outputs": []
    },
    {
      "cell_type": "code",
      "source": [],
      "metadata": {
        "id": "hzcnvplSAqNp"
      },
      "execution_count": null,
      "outputs": []
    }
  ]
}